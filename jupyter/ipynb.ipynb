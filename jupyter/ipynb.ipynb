{
 "cells": [
  {
   "cell_type": "markdown",
   "metadata": {},
   "source": [
    "# IPython Notebook\n",
    "the actual data structure of an ipynb is just... json.\n",
    "\n",
    "$LaTeX$ support available"
   ]
  },
  {
   "cell_type": "code",
   "execution_count": 3,
   "metadata": {},
   "outputs": [
    {
     "name": "stdout",
     "output_type": "stream",
     "text": [
      "c:\\Users\\chris\\src\\bootstrap\\jupyter\n",
      "c:\\Users\\chris\\src\\bootstrap\\jupyter\\ipynb.ipynb\n"
     ]
    },
    {
     "ename": "",
     "evalue": "",
     "output_type": "error",
     "traceback": [
      "\u001b[1;31mThe Kernel crashed while executing code in the current cell or a previous cell. \n",
      "\u001b[1;31mPlease review the code in the cell(s) to identify a possible cause of the failure. \n",
      "\u001b[1;31mClick <a href='https://aka.ms/vscodeJupyterKernelCrash'>here</a> for more info. \n",
      "\u001b[1;31mView Jupyter <a href='command:jupyter.viewOutput'>log</a> for further details."
     ]
    }
   ],
   "source": [
    "import __main__\n",
    "SCRIPT_DIRPATH = %pwd  # %pwd is a \"magic\" command  https://ipython.readthedocs.io/en/stable/interactive/magics.html\n",
    "if hasattr(__main__, '__vsc_ipynb_file__'):  # vscode\n",
    "    SCRIPT_FILEPATH = __main__.__vsc_ipynb_file__\n",
    "elif hasattr(__main__, '__session__'):  # localhost:8888/notebooks\n",
    "    SCRIPT_FILEPATH = __main__.__session__\n",
    "else:\n",
    "    SCRIPT_FILEPATH = None\n",
    "print(SCRIPT_DIRPATH)\n",
    "print(SCRIPT_FILEPATH)\n",
    "\n",
    "import os\n",
    "try:\n",
    "    import pandas as pd\n",
    "    import numpy as np\n",
    "    import matplotlib.pyplot as plt\n",
    "    import seaborn as sns\n",
    "\n",
    "    np.set_printoptions(precision=4, edgeitems=2, linewidth=9999)  # threshold=4,\n",
    "\n",
    "    pd.set_option('display.precision', 4)\n",
    "    pd.set_option('display.max_columns', 32)\n",
    "    pd.set_option('display.width', 9999)\n",
    "    pd.set_option('display.max_rows', 4)\n",
    "\n",
    "    with pd.option_context('display.max_rows', 999, 'display.max_columns', 999):\n",
    "        pass\n",
    "except ImportError:\n",
    "    pass\n",
    "\n",
    "# command to tell the notebook to plt.show() IN THE NOTEBOOK, otherwise you call plt.show()\n",
    "# %matplotlib inline\n",
    "# !pip install matplotlib\n",
    "\n",
    "5;  # normall the 5 would be printed, adding ; disables the print\n",
    "\n",
    "# keyboard shortcuts\n",
    "# 1. Shift + Enter - exec current cell\n",
    "# 2. Ctrl + Enter - exec the current cell and stay\n",
    "# 3. Enter - edit mode\n",
    "# 4. Y - change cell type to code\n",
    "# 5. M - change the cell type to markdown\n",
    "# 6. A - insert above current\n",
    "# 7. B - insert below current"
   ]
  },
  {
   "cell_type": "code",
   "execution_count": 2,
   "metadata": {},
   "outputs": [
    {
     "name": "stdout",
     "output_type": "stream",
     "text": [
      "{\n",
      "  \"cell_type\": \"markdown\",\n",
      "  \"metadata\": {},\n",
      "  \"source\": [\n",
      "    \"# IPython Notebook\\n\",\n",
      "    \"the actual data structure of an ipynb is just... json.\\n\",\n",
      "    \"\\n\",\n",
      "    \"$LaTe\\\\Chi$ support available\"\n",
      "  ]\n",
      "}\n",
      "{\n",
      "  \"cell_type\": \"code\",\n",
      "  \"execution_count\": 15,\n",
      "  \"metadata\": {},\n",
      "  \"outputs\": [\n",
      "    {\n",
      "      \"name\": \"stdout\",\n",
      "      \"output_type\": \"stream\",\n",
      "      \"text\": [\n",
      "        \"c:\\\\Users\\\\chris\\\\src\\\\bootstrap\\\\jupyter\\n\",\n",
      "        \"c:\\\\Users\\\\chris\\\\src\\\\bootstrap\\\\jupyter\\\\ipynb.ipynb\\n\"\n",
      "      ]\n",
      "    }\n",
      "  ],\n",
      "  \"source\": [\n",
      "    \"import __main__\\n\",\n",
      "    \"SCRIPT_DIRPATH = %pwd  # %pwd is a \\\"magic\\\" command  https://ipython.readthedocs.io/en/stable/interactive/magics.html\\n\",\n",
      "    \"if hasattr(__main__, '__vsc_ipynb_file__'):  # vscode\\n\",\n",
      "    \"    SCRIPT_FILEPATH = __main__.__vsc_ipynb_file__\\n\",\n",
      "    \"elif hasattr(__main__, '__session__'):  # localhost:8888/notebooks\\n\",\n",
      "    \"    SCRIPT_FILEPATH = __main__.__session__\\n\",\n",
      "    \"else:\\n\",\n",
      "    \"    SCRIPT_FILEPATH = None\\n\",\n",
      "    \"print(SCRIPT_DIRPATH)\\n\",\n",
      "    \"print(SCRIPT_FILEPATH)\"\n",
      "  ]\n",
      "}\n"
     ]
    }
   ],
   "source": [
    "import json\n",
    "with open(SCRIPT_FILEPATH, 'r', encoding='utf-8') as r:\n",
    "    body = json.load(r)\n",
    "    print(json.dumps(body['cells'][0], indent=2))\n",
    "    print(json.dumps(body['cells'][1], indent=2))"
   ]
  },
  {
   "cell_type": "markdown",
   "metadata": {},
   "source": [
    "[VS Code Keyboard Shortcuts](https://blog.chaitanyashahare.com/posts/vscode-jupyter-notebooks-keyboard-shortcuts/)\n",
    "1. Shift + Enter - exec current cell\n",
    "2. Ctrl + Enter - exec the current cell and stay\n",
    "3. Enter - edit mode\n",
    "4. Y - change cell type to code\n",
    "5. M - change the cell type to markdown\n",
    "6. A - insert above current\n",
    "7. B - insert below current\n"
   ]
  },
  {
   "cell_type": "code",
   "execution_count": 3,
   "metadata": {},
   "outputs": [
    {
     "name": "stdout",
     "output_type": "stream",
     "text": [
      "shit\n"
     ]
    }
   ],
   "source": [
    "print('shit')"
   ]
  }
 ],
 "metadata": {
  "kernelspec": {
   "display_name": ".venv",
   "language": "python",
   "name": "python3"
  },
  "language_info": {
   "codemirror_mode": {
    "name": "ipython",
    "version": 3
   },
   "file_extension": ".py",
   "mimetype": "text/x-python",
   "name": "python",
   "nbconvert_exporter": "python",
   "pygments_lexer": "ipython3",
   "version": "3.12.6"
  }
 },
 "nbformat": 4,
 "nbformat_minor": 4
}
