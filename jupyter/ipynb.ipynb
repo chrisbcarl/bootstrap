{
 "cells": [
  {
   "cell_type": "markdown",
   "metadata": {},
   "source": [
    "# IPython Notebook\n",
    "the actual data structure of an ipynb is just... json.\n",
    "\n",
    "## TOC (Raw HTML Anchors)\n",
    "* [Setup](#Setup)\n",
    "* [IPython Notebooks are Just JSON](#just-json)\n",
    "* [VS Code Shortcuts](#shortcuts)\n",
    "\n",
    "## Tables (Raw HTML Style to Help w/ Renders)\n",
    "<div style=\"display: inline-block\">\n",
    "<!-- get the table rendered to the left rather than default center, the spaces after the raw html are important for markdown https://stackoverflow.com/a/78525025 -->\n",
    "\n",
    "| Key | Value |\n",
    "| :--- | :--- |\n",
    "| author | [Chris Carl](mailto:chrisbcarl@outlook.com) |\n",
    "\n",
    "<!-- get the table rendered to the left rather than default center, the spaces after the raw html are important for markdown https://stackoverflow.com/a/78525025 -->\n",
    "</div>\n",
    "\n",
    "## LaTeX\n",
    "$LaTeX$ support available"
   ]
  },
  {
   "cell_type": "markdown",
   "metadata": {},
   "source": [
    "# Setup <a id=\"Setup\"></a>"
   ]
  },
  {
   "cell_type": "code",
   "execution_count": 3,
   "metadata": {},
   "outputs": [
    {
     "name": "stdout",
     "output_type": "stream",
     "text": [
      "{ 'dir': 'c:\\\\Users\\\\chris\\\\src\\\\bootstrap\\\\jupyter',\n",
      "  'fn': 'ipynb',\n",
      "  'fp': 'c:\\\\Users\\\\chris\\\\src\\\\bootstrap\\\\jupyter\\\\ipynb.ipynb'}\n",
      "True\n",
      "hello ipynb\n"
     ]
    },
    {
     "name": "stderr",
     "output_type": "stream",
     "text": [
      "[NbConvertApp] Converting notebook c:\\Users\\chris\\src\\bootstrap\\jupyter\\ipynb.ipynb to html\n",
      "[NbConvertApp] Writing 287586 bytes to c:\\Users\\chris\\src\\bootstrap\\jupyter\\ipynb.html\n",
      "[NbConvertApp] Converting notebook c:\\Users\\chris\\src\\bootstrap\\jupyter\\ipynb.ipynb to python\n",
      "[NbConvertApp] Writing 4220 bytes to c:\\Users\\chris\\src\\bootstrap\\jupyter\\ipynb.py\n"
     ]
    }
   ],
   "source": [
    "# setup\n",
    "import __main__\n",
    "import os\n",
    "import sys\n",
    "import pprint\n",
    "import importlib\n",
    "SCRIPT_DIRPATH = %pwd  # %pwd is a \"magic\" command  https://ipython.readthedocs.io/en/stable/interactive/magics.html\n",
    "SCRIPT_FILEPATH = None\n",
    "SCRIPT_FILENAME = None\n",
    "if hasattr(__main__, '__vsc_ipynb_file__'):  # vscode\n",
    "    SCRIPT_FILEPATH = __main__.__vsc_ipynb_file__\n",
    "elif hasattr(__main__, '__session__'):  # localhost:8888/notebooks\n",
    "    SCRIPT_FILEPATH = __main__.__session__\n",
    "if SCRIPT_FILEPATH:\n",
    "    SCRIPT_FILENAME = os.path.splitext(os.path.basename(SCRIPT_FILEPATH))[0]\n",
    "pprint.pprint(dict(dir=SCRIPT_DIRPATH, fp=SCRIPT_FILEPATH, fn=SCRIPT_FILENAME), indent=2)\n",
    "\n",
    "requirements = ['pandas', 'numpy', 'seaborn', 'requests']\n",
    "install_string = ' '.join(requirements)\n",
    "try:\n",
    "    for requirement in requirements:\n",
    "        importlib.import_module(requirement)\n",
    "except ImportError:\n",
    "    print(f'pip install {install_string}', file=sys.stderr)\n",
    "    %pip install {install_string}\n",
    "\n",
    "import pandas as pd\n",
    "import numpy as np\n",
    "import matplotlib.pyplot as plt\n",
    "import seaborn as sns\n",
    "\n",
    "np.set_printoptions(precision=4, edgeitems=2, linewidth=9999)  # threshold=4,\n",
    "\n",
    "pd.set_option('display.precision', 4)\n",
    "pd.set_option('display.max_columns', 32)\n",
    "pd.set_option('display.max_colwidth', 999)\n",
    "pd.set_option('display.width', 9999)\n",
    "pd.set_option('display.max_rows', 8)  # for .describe()\n",
    "\n",
    "with pd.option_context('display.max_rows', 999, 'display.max_columns', 999):\n",
    "    pass\n",
    "\n",
    "if sys.platform == 'win32':\n",
    "    res = !where.exe shitlatex\n",
    "    latex_exists = res[0].startswith('INFO')\n",
    "else:\n",
    "    res = !which latex\n",
    "    latex_exists = bool(res)\n",
    "plt.rcParams.update({'text.usetex': latex_exists})  # , 'font.family': 'Helvetica'  # requires latex installed\n",
    "\n",
    "\n",
    "# command to tell the notebook to plt.show() IN THE NOTEBOOK, otherwise you call plt.show()\n",
    "# %matplotlib inline\n",
    "\n",
    "# run shell commands like installing packages and other wild stuff\n",
    "!echo hello ipynb\n",
    "# change cli arguments with variables\n",
    "!jupyter nbconvert --to html --template lab {SCRIPT_FILEPATH}\n",
    "!jupyter nbconvert --to python --no-prompt {SCRIPT_FILEPATH}\n",
    "# !jupyter nbconvert --execute --to notebook --inplace {SCRIPT_FILEPATH}\n",
    "# !pip install matplotlib\n",
    "\n",
    "5;  # normally the 5 would be printed, adding ; disables the print\n",
    "\n",
    "# keyboard shortcuts\n",
    "# 1. Shift + Enter - exec current cell\n",
    "# 2. Ctrl + Enter - exec the current cell and stay\n",
    "# 3. Enter - edit mode\n",
    "# 4. Y - change cell type to code\n",
    "# 5. M - change the cell type to markdown\n",
    "# 6. A - insert above current\n",
    "# 7. B - insert below current"
   ]
  },
  {
   "cell_type": "markdown",
   "metadata": {},
   "source": [
    "# IPython Notebooks are Just JSON <a id=\"just-json\"></a>"
   ]
  },
  {
   "cell_type": "code",
   "execution_count": 6,
   "metadata": {},
   "outputs": [
    {
     "name": "stdout",
     "output_type": "stream",
     "text": [
      "{\n",
      "  \"cell_type\": \"markdown\",\n",
      "  \"metadata\": {},\n",
      "  \"source\": [\n",
      "    \"# IPython Notebook\\n\",\n",
      "    \"the actual data structure of an ipynb is just... json.\\n\",\n",
      "    \"\\n\",\n",
      "    \"## TOC (Raw HTML Anchors)\\n\",\n",
      "    \"* [Setup](#Setup)\\n\",\n",
      "    \"* [IPython Notebooks are Just JSON](#just-json)\\n\",\n",
      "    \"* [VS Code Shortcuts](#shortcuts)\\n\",\n",
      "    \"\\n\",\n",
      "    \"## Tables (Raw HTML Style to Help w/ Renders)\\n\",\n",
      "    \"<div style=\\\"display: inline-block\\\">\\n\",\n",
      "    \"<!-- get the table rendered to the left rather than default center, the spaces after the raw html are important for markdown https://stackoverflow.com/a/78525025 -->\\n\",\n",
      "    \"\\n\",\n",
      "    \"| Key | Value |\\n\",\n",
      "    \"| :--- | :--- |\\n\",\n",
      "    \"| author | [Chris Carl](mailto:chrisbcarl@outlook.com) |\\n\",\n",
      "    \"\\n\",\n",
      "    \"<!-- get the table rendered to the left rather than default center, the spaces after the raw html are important for markdown https://stackoverflow.com/a/78525025 -->\\n\",\n",
      "    \"</div>\\n\",\n",
      "    \"\\n\",\n",
      "    \"## LaTeX\\n\",\n",
      "    \"$LaTeX$ support available\"\n",
      "  ]\n",
      "}\n",
      "{\n",
      "  \"cell_type\": \"markdown\",\n",
      "  \"metadata\": {},\n",
      "  \"source\": [\n",
      "    \"# Setup <a id=\\\"Setup\\\"></a>\"\n",
      "  ]\n",
      "}\n"
     ]
    }
   ],
   "source": [
    "import json\n",
    "with open(SCRIPT_FILEPATH, 'r', encoding='utf-8') as r:\n",
    "    body = json.load(r)\n",
    "    print(json.dumps(body['cells'][0], indent=2))\n",
    "    print(json.dumps(body['cells'][1], indent=2))"
   ]
  },
  {
   "cell_type": "markdown",
   "metadata": {},
   "source": [
    "# VS Code Keyboard Shortcuts <a id=\"shortcuts\"></a>\n",
    "[VS Code Keyboard Shortcuts](https://blog.chaitanyashahare.com/posts/vscode-jupyter-notebooks-keyboard-shortcuts/)\n",
    "1. Shift + Enter - exec current cell\n",
    "2. Ctrl + Enter - exec the current cell and stay\n",
    "3. Enter - edit mode\n",
    "4. Y - change cell type to code\n",
    "5. M - change the cell type to markdown\n",
    "6. A - insert above current\n",
    "7. B - insert below current\n"
   ]
  }
 ],
 "metadata": {
  "kernelspec": {
   "display_name": ".venv",
   "language": "python",
   "name": "python3"
  },
  "language_info": {
   "codemirror_mode": {
    "name": "ipython",
    "version": 3
   },
   "file_extension": ".py",
   "mimetype": "text/x-python",
   "name": "python",
   "nbconvert_exporter": "python",
   "pygments_lexer": "ipython3",
   "version": "3.12.6"
  }
 },
 "nbformat": 4,
 "nbformat_minor": 4
}
