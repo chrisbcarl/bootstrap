{
 "cells": [
  {
   "cell_type": "markdown",
   "metadata": {},
   "source": [
    "the actual data structure of an ipynb is just... json."
   ]
  },
  {
   "cell_type": "code",
   "execution_count": null,
   "metadata": {},
   "outputs": [],
   "source": []
  },
  {
   "cell_type": "code",
   "execution_count": 1,
   "metadata": {},
   "outputs": [
    {
     "name": "stdout",
     "output_type": "stream",
     "text": [
      "C:\\Users\\chris\\src\\bootstrap\\jupyter\n",
      "None\n"
     ]
    }
   ],
   "source": [
    "import __main__\n",
    "SCRIPT_DIRPATH = %pwd  # %pwd is a \"magic\" command  https://ipython.readthedocs.io/en/stable/interactive/magics.html\n",
    "if hasattr(__main__, '__vsc_ipynb_file__'):  # vscode\n",
    "    SCRIPT_FILEPATH = __main__.__vsc_ipynb_file__\n",
    "elif hasattr(__main__, '__session__'):  # localhost:8888/notebooks\n",
    "    SCRIPT_FILEPATH = __main__.__session__\n",
    "else:\n",
    "    SCRIPT_FILEPATH = None\n",
    "print(SCRIPT_DIRPATH)\n",
    "print(SCRIPT_FILEPATH)"
   ]
  },
  {
   "cell_type": "code",
   "execution_count": 2,
   "metadata": {},
   "outputs": [
    {
     "ename": "TypeError",
     "evalue": "expected str, bytes or os.PathLike object, not NoneType",
     "output_type": "error",
     "traceback": [
      "\u001b[1;31m---------------------------------------------------------------------------\u001b[0m",
      "\u001b[1;31mTypeError\u001b[0m                                 Traceback (most recent call last)",
      "Cell \u001b[1;32mIn[2], line 2\u001b[0m\n\u001b[0;32m      1\u001b[0m \u001b[38;5;28;01mimport\u001b[39;00m \u001b[38;5;21;01mjson\u001b[39;00m\n\u001b[1;32m----> 2\u001b[0m \u001b[38;5;28;01mwith\u001b[39;00m \u001b[38;5;28;43mopen\u001b[39;49m\u001b[43m(\u001b[49m\u001b[43mSCRIPT_FILEPATH\u001b[49m\u001b[43m,\u001b[49m\u001b[43m \u001b[49m\u001b[38;5;124;43m'\u001b[39;49m\u001b[38;5;124;43mr\u001b[39;49m\u001b[38;5;124;43m'\u001b[39;49m\u001b[43m,\u001b[49m\u001b[43m \u001b[49m\u001b[43mencoding\u001b[49m\u001b[38;5;241;43m=\u001b[39;49m\u001b[38;5;124;43m'\u001b[39;49m\u001b[38;5;124;43mutf-8\u001b[39;49m\u001b[38;5;124;43m'\u001b[39;49m\u001b[43m)\u001b[49m \u001b[38;5;28;01mas\u001b[39;00m r:\n\u001b[0;32m      3\u001b[0m     body \u001b[38;5;241m=\u001b[39m json\u001b[38;5;241m.\u001b[39mload(r)\n\u001b[0;32m      4\u001b[0m     \u001b[38;5;28mprint\u001b[39m(json\u001b[38;5;241m.\u001b[39mdumps(body[\u001b[38;5;124m'\u001b[39m\u001b[38;5;124mcells\u001b[39m\u001b[38;5;124m'\u001b[39m][\u001b[38;5;241m0\u001b[39m], indent\u001b[38;5;241m=\u001b[39m\u001b[38;5;241m2\u001b[39m))\n",
      "File \u001b[1;32m~\\src\\bootstrap\\.venv\\Lib\\site-packages\\IPython\\core\\interactiveshell.py:324\u001b[0m, in \u001b[0;36m_modified_open\u001b[1;34m(file, *args, **kwargs)\u001b[0m\n\u001b[0;32m    317\u001b[0m \u001b[38;5;28;01mif\u001b[39;00m file \u001b[38;5;129;01min\u001b[39;00m {\u001b[38;5;241m0\u001b[39m, \u001b[38;5;241m1\u001b[39m, \u001b[38;5;241m2\u001b[39m}:\n\u001b[0;32m    318\u001b[0m     \u001b[38;5;28;01mraise\u001b[39;00m \u001b[38;5;167;01mValueError\u001b[39;00m(\n\u001b[0;32m    319\u001b[0m         \u001b[38;5;124mf\u001b[39m\u001b[38;5;124m\"\u001b[39m\u001b[38;5;124mIPython won\u001b[39m\u001b[38;5;124m'\u001b[39m\u001b[38;5;124mt let you open fd=\u001b[39m\u001b[38;5;132;01m{\u001b[39;00mfile\u001b[38;5;132;01m}\u001b[39;00m\u001b[38;5;124m by default \u001b[39m\u001b[38;5;124m\"\u001b[39m\n\u001b[0;32m    320\u001b[0m         \u001b[38;5;124m\"\u001b[39m\u001b[38;5;124mas it is likely to crash IPython. If you know what you are doing, \u001b[39m\u001b[38;5;124m\"\u001b[39m\n\u001b[0;32m    321\u001b[0m         \u001b[38;5;124m\"\u001b[39m\u001b[38;5;124myou can use builtins\u001b[39m\u001b[38;5;124m'\u001b[39m\u001b[38;5;124m open.\u001b[39m\u001b[38;5;124m\"\u001b[39m\n\u001b[0;32m    322\u001b[0m     )\n\u001b[1;32m--> 324\u001b[0m \u001b[38;5;28;01mreturn\u001b[39;00m \u001b[43mio_open\u001b[49m\u001b[43m(\u001b[49m\u001b[43mfile\u001b[49m\u001b[43m,\u001b[49m\u001b[43m \u001b[49m\u001b[38;5;241;43m*\u001b[39;49m\u001b[43margs\u001b[49m\u001b[43m,\u001b[49m\u001b[43m \u001b[49m\u001b[38;5;241;43m*\u001b[39;49m\u001b[38;5;241;43m*\u001b[39;49m\u001b[43mkwargs\u001b[49m\u001b[43m)\u001b[49m\n",
      "\u001b[1;31mTypeError\u001b[0m: expected str, bytes or os.PathLike object, not NoneType"
     ]
    }
   ],
   "source": [
    "import json\n",
    "with open(SCRIPT_FILEPATH, 'r', encoding='utf-8') as r:\n",
    "    body = json.load(r)\n",
    "    print(json.dumps(body['cells'][0], indent=2))"
   ]
  },
  {
   "cell_type": "code",
   "execution_count": 3,
   "metadata": {},
   "outputs": [
    {
     "name": "stdout",
     "output_type": "stream",
     "text": [
      "{ 'In': [ '',\n",
      "          'import __main__\\n'\n",
      "          \"SCRIPT_DIRPATH = get_ipython().run_line_magic('pwd', ' # %pwd is a \"\n",
      "          '\"magic\" command  '\n",
      "          \"https://ipython.readthedocs.io/en/stable/interactive/magics.html')\\n\"\n",
      "          '# in vscode, this is available:\\n'\n",
      "          \"if hasattr(__main__, '__vsc_ipynb_file__'):\\n\"\n",
      "          '    SCRIPT_FILEPATH = __main__.__vsc_ipynb_file__\\n'\n",
      "          'else:\\n'\n",
      "          '    SCRIPT_FILEPATH = None\\n'\n",
      "          'print(SCRIPT_DIRPATH)\\n'\n",
      "          'print(SCRIPT_FILEPATH)',\n",
      "          'import json\\n'\n",
      "          \"with open(SCRIPT_FILEPATH, 'r', encoding='utf-8') as r:\\n\"\n",
      "          '    body = json.load(r)\\n'\n",
      "          \"    print(json.dumps(body['cells'][0], indent=2))\",\n",
      "          'import pprint\\npprint.pprint(vars(__main__), indent=2)'],\n",
      "  'Out': {},\n",
      "  'SCRIPT_DIRPATH': 'C:\\\\Users\\\\chris\\\\src\\\\bootstrap\\\\jupyter',\n",
      "  'SCRIPT_FILEPATH': None,\n",
      "  '_': '',\n",
      "  '__': '',\n",
      "  '___': '',\n",
      "  '__builtin__': <module 'builtins' (built-in)>,\n",
      "  '__builtins__': <module 'builtins' (built-in)>,\n",
      "  '__doc__': 'Automatically created module for IPython interactive environment',\n",
      "  '__loader__': None,\n",
      "  '__main__': <module '__main__'>,\n",
      "  '__name__': '__main__',\n",
      "  '__package__': None,\n",
      "  '__session__': 'C:\\\\Users\\\\chris\\\\src\\\\bootstrap\\\\jupyter\\\\ipynb.ipynb',\n",
      "  '__spec__': None,\n",
      "  '_dh': [WindowsPath('C:/Users/chris/src/bootstrap/jupyter')],\n",
      "  '_i': 'import json\\n'\n",
      "        \"with open(SCRIPT_FILEPATH, 'r', encoding='utf-8') as r:\\n\"\n",
      "        '    body = json.load(r)\\n'\n",
      "        \"    print(json.dumps(body['cells'][0], indent=2))\",\n",
      "  '_i1': 'import __main__\\n'\n",
      "         'SCRIPT_DIRPATH = %pwd  # %pwd is a \"magic\" command  '\n",
      "         'https://ipython.readthedocs.io/en/stable/interactive/magics.html\\n'\n",
      "         '# in vscode, this is available:\\n'\n",
      "         \"if hasattr(__main__, '__vsc_ipynb_file__'):\\n\"\n",
      "         '    SCRIPT_FILEPATH = __main__.__vsc_ipynb_file__\\n'\n",
      "         'else:\\n'\n",
      "         '    SCRIPT_FILEPATH = None\\n'\n",
      "         'print(SCRIPT_DIRPATH)\\n'\n",
      "         'print(SCRIPT_FILEPATH)',\n",
      "  '_i2': 'import json\\n'\n",
      "         \"with open(SCRIPT_FILEPATH, 'r', encoding='utf-8') as r:\\n\"\n",
      "         '    body = json.load(r)\\n'\n",
      "         \"    print(json.dumps(body['cells'][0], indent=2))\",\n",
      "  '_i3': 'import pprint\\npprint.pprint(vars(__main__), indent=2)',\n",
      "  '_ih': [ '',\n",
      "           'import __main__\\n'\n",
      "           \"SCRIPT_DIRPATH = get_ipython().run_line_magic('pwd', ' # %pwd is a \"\n",
      "           '\"magic\" command  '\n",
      "           \"https://ipython.readthedocs.io/en/stable/interactive/magics.html')\\n\"\n",
      "           '# in vscode, this is available:\\n'\n",
      "           \"if hasattr(__main__, '__vsc_ipynb_file__'):\\n\"\n",
      "           '    SCRIPT_FILEPATH = __main__.__vsc_ipynb_file__\\n'\n",
      "           'else:\\n'\n",
      "           '    SCRIPT_FILEPATH = None\\n'\n",
      "           'print(SCRIPT_DIRPATH)\\n'\n",
      "           'print(SCRIPT_FILEPATH)',\n",
      "           'import json\\n'\n",
      "           \"with open(SCRIPT_FILEPATH, 'r', encoding='utf-8') as r:\\n\"\n",
      "           '    body = json.load(r)\\n'\n",
      "           \"    print(json.dumps(body['cells'][0], indent=2))\",\n",
      "           'import pprint\\npprint.pprint(vars(__main__), indent=2)'],\n",
      "  '_ii': 'import __main__\\n'\n",
      "         'SCRIPT_DIRPATH = %pwd  # %pwd is a \"magic\" command  '\n",
      "         'https://ipython.readthedocs.io/en/stable/interactive/magics.html\\n'\n",
      "         '# in vscode, this is available:\\n'\n",
      "         \"if hasattr(__main__, '__vsc_ipynb_file__'):\\n\"\n",
      "         '    SCRIPT_FILEPATH = __main__.__vsc_ipynb_file__\\n'\n",
      "         'else:\\n'\n",
      "         '    SCRIPT_FILEPATH = None\\n'\n",
      "         'print(SCRIPT_DIRPATH)\\n'\n",
      "         'print(SCRIPT_FILEPATH)',\n",
      "  '_iii': '',\n",
      "  '_oh': {},\n",
      "  'exit': <IPython.core.autocall.ZMQExitAutocall object at 0x00000209F1875550>,\n",
      "  'get_ipython': <bound method InteractiveShell.get_ipython of <ipykernel.zmqshell.ZMQInteractiveShell object at 0x00000209F1CB0620>>,\n",
      "  'json': <module 'json' from 'C:\\\\Python312\\\\Lib\\\\json\\\\__init__.py'>,\n",
      "  'open': <function open at 0x00000209EFA70EA0>,\n",
      "  'pprint': <module 'pprint' from 'C:\\\\Python312\\\\Lib\\\\pprint.py'>,\n",
      "  'quit': <IPython.core.autocall.ZMQExitAutocall object at 0x00000209F1875550>}\n"
     ]
    }
   ],
   "source": [
    "import pprint\n",
    "pprint.pprint(vars(__main__), indent=2)"
   ]
  }
 ],
 "metadata": {
  "kernelspec": {
   "display_name": "Python 3 (ipykernel)",
   "language": "python",
   "name": "python3"
  },
  "language_info": {
   "codemirror_mode": {
    "name": "ipython",
    "version": 3
   },
   "file_extension": ".py",
   "mimetype": "text/x-python",
   "name": "python",
   "nbconvert_exporter": "python",
   "pygments_lexer": "ipython3",
   "version": "3.12.6"
  }
 },
 "nbformat": 4,
 "nbformat_minor": 4
}
